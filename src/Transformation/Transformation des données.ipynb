{
 "cells": [
  {
   "cell_type": "code",
   "execution_count": 111,
   "metadata": {
    "collapsed": true
   },
   "outputs": [],
   "source": [
    "import pandas as pd\n",
    "import numpy as np\n",
    "import os\n",
    "import json\n",
    "import glob\n",
    "import sqlite3\n",
    "\n",
    "import matplotlib.pyplot as plt\n",
    "import seaborn as sns\n",
    "%matplotlib inline\n",
    "\n",
    "from sklearn.feature_extraction.text import CountVectorizer\n",
    "from sklearn.ensemble import RandomForestRegressor\n",
    "from sklearn.linear_model import LinearRegression "
   ]
  },
  {
   "cell_type": "code",
   "execution_count": 2,
   "metadata": {
    "collapsed": true
   },
   "outputs": [],
   "source": [
    "with open('../parameters.json') as json_data:\n",
    "    params = json.load(json_data)\n",
    "    \n",
    "    DATA_DIR = params['DIRECTORIES']['DATA_DIR']\n",
    "    TMP_DIR = params['DIRECTORIES']['TMP_DIR']\n",
    "    PRICE_FILE = params['FILES']['PRICE_FILE']\n",
    "    STATION_FILE =params['FILES']['STATION_FILE']\n",
    "    SERVICE_FILE =params['FILES']['SERVICE_FILE']\n",
    "    GAS_DB = os.path.join(DATA_DIR, params['DATABASE']['GAS_DB'])"
   ]
  },
  {
   "cell_type": "code",
   "execution_count": 4,
   "metadata": {},
   "outputs": [],
   "source": [
    "dfall = pd.read_pickle(os.path.join(DATA_DIR,PRICE_FILE))\n",
    "dfservices = pd.read_pickle(os.path.join(DATA_DIR, SERVICE_FILE))\n",
    "dfstations = pd.read_pickle(os.path.join(DATA_DIR, STATION_FILE))"
   ]
  },
  {
   "cell_type": "code",
   "execution_count": 7,
   "metadata": {},
   "outputs": [],
   "source": [
    "dfall['date_releve'] = pd.to_datetime(dfall.date_releve)"
   ]
  },
  {
   "cell_type": "markdown",
   "metadata": {},
   "source": [
    "### Calcul de l'indice de prix hebdomadaire "
   ]
  },
  {
   "cell_type": "code",
   "execution_count": 20,
   "metadata": {},
   "outputs": [],
   "source": [
    "moyenne_hebdo_df = (dfall\n",
    " .dropna(subset=['date_releve'])\n",
    " .groupby(['libelle_carburant', pd.Grouper(key='date_releve', freq='1W-MON')])\n",
    " .agg({'prix': np.mean})\n",
    "                   .reset_index()\n",
    "                  )"
   ]
  },
  {
   "cell_type": "code",
   "execution_count": 34,
   "metadata": {},
   "outputs": [],
   "source": [
    "model_df = (dfall\n",
    " .dropna(subset=['date_releve'])\n",
    " .groupby(['id_station', 'libelle_carburant', pd.Grouper(key='date_releve', freq='1W-MON')])\n",
    " .agg({'prix': np.mean})\n",
    "              .reset_index()\n",
    "              .merge(moyenne_hebdo_df, how='inner', on=['libelle_carburant', 'date_releve'], suffixes= ('','_moyen'))\n",
    ".assign(indice = lambda df: df.prix / df.prix_moyen)\n",
    "             )"
   ]
  },
  {
   "cell_type": "markdown",
   "metadata": {},
   "source": [
    "### Construction du vecteur de services"
   ]
  },
  {
   "cell_type": "code",
   "execution_count": 44,
   "metadata": {},
   "outputs": [
    {
     "data": {
      "text/plain": [
       "<12391x25 sparse matrix of type '<class 'numpy.int64'>'\n",
       "\twith 75115 stored elements in Compressed Sparse Row format>"
      ]
     },
     "execution_count": 44,
     "metadata": {},
     "output_type": "execute_result"
    }
   ],
   "source": [
    "vectorize = CountVectorizer(tokenizer=lambda x: x.split(','), lowercase=False)"
   ]
  },
  {
   "cell_type": "code",
   "execution_count": 52,
   "metadata": {},
   "outputs": [],
   "source": [
    "matrice_services_df = pd.SparseDataFrame(vectorize.fit_transform(dfservices.services.fillna('Rien')),\n",
    "                  dfservices.id_station,\n",
    "                  vectorize.get_feature_names(),\n",
    "                  default_fill_value=0\n",
    "                  ).reset_index()"
   ]
  },
  {
   "cell_type": "markdown",
   "metadata": {},
   "source": [
    "(model_df\n",
    " .merge(matrice_services_df, how='outer', on=['id_station'],  indicator=True)\n",
    " ['_merge']\n",
    " .value_counts())"
   ]
  },
  {
   "cell_type": "code",
   "execution_count": 127,
   "metadata": {},
   "outputs": [
    {
     "ename": "NameError",
     "evalue": "name 'model_service_df' is not defined",
     "output_type": "error",
     "traceback": [
      "\u001b[1;31m---------------------------------------------------------------------------\u001b[0m",
      "\u001b[1;31mNameError\u001b[0m                                 Traceback (most recent call last)",
      "\u001b[1;32m<ipython-input-127-432035d0b34e>\u001b[0m in \u001b[0;36m<module>\u001b[1;34m()\u001b[0m\n\u001b[0;32m      1\u001b[0m \u001b[0mmodel_services_df\u001b[0m \u001b[1;33m=\u001b[0m \u001b[0mmodel_df\u001b[0m\u001b[1;33m.\u001b[0m\u001b[0mmerge\u001b[0m\u001b[1;33m(\u001b[0m\u001b[0mmatrice_services_df\u001b[0m\u001b[1;33m,\u001b[0m \u001b[0mhow\u001b[0m\u001b[1;33m=\u001b[0m\u001b[1;34m'inner'\u001b[0m\u001b[1;33m,\u001b[0m \u001b[0mon\u001b[0m\u001b[1;33m=\u001b[0m\u001b[1;33m[\u001b[0m\u001b[1;34m'id_station'\u001b[0m\u001b[1;33m]\u001b[0m\u001b[1;33m)\u001b[0m\u001b[1;33m\u001b[0m\u001b[0m\n\u001b[1;32m----> 2\u001b[1;33m \u001b[0mmodel_services_df\u001b[0m\u001b[1;33m[\u001b[0m\u001b[1;34m'Rural'\u001b[0m\u001b[1;33m]\u001b[0m \u001b[1;33m=\u001b[0m \u001b[0mnp\u001b[0m\u001b[1;33m.\u001b[0m\u001b[0mwhere\u001b[0m\u001b[1;33m(\u001b[0m\u001b[0mmodel_service_df\u001b[0m\u001b[1;33m.\u001b[0m\u001b[0mtype_station\u001b[0m \u001b[1;33m==\u001b[0m \u001b[1;34m'R'\u001b[0m\u001b[1;33m,\u001b[0m \u001b[1;36m1\u001b[0m\u001b[1;33m,\u001b[0m \u001b[1;36m0\u001b[0m\u001b[1;33m)\u001b[0m\u001b[1;33m\u001b[0m\u001b[0m\n\u001b[0m",
      "\u001b[1;31mNameError\u001b[0m: name 'model_service_df' is not defined"
     ]
    }
   ],
   "source": [
    "model_services_df = model_df.merge(matrice_services_df, how='inner', on=['id_station'])\n",
    "model_services_df['Rural'] = np.where(model_service_df.type_station == 'R', 1, 0)"
   ]
  },
  {
   "cell_type": "code",
   "execution_count": 66,
   "metadata": {
    "collapsed": true
   },
   "outputs": [],
   "source": [
    "lr = LinearRegression()"
   ]
  },
  {
   "cell_type": "code",
   "execution_count": 68,
   "metadata": {},
   "outputs": [
    {
     "data": {
      "text/plain": [
       "{'Aire de camping-cars',\n",
       " 'Automate CB',\n",
       " 'Baie de service auto',\n",
       " 'Bar',\n",
       " 'Boutique alimentaire',\n",
       " 'Boutique non alimentaire',\n",
       " 'Carburant qualité supérieure',\n",
       " 'Douches',\n",
       " 'Espace bébé / change',\n",
       " 'GPL',\n",
       " 'Lavage haute-pression',\n",
       " 'Lavage multi-programmes',\n",
       " 'Laverie',\n",
       " 'Location de véhicule',\n",
       " 'Piste poids lourds',\n",
       " 'Relais colis',\n",
       " 'Restauration sur place',\n",
       " 'Restauration à emporter',\n",
       " 'Rien',\n",
       " 'Station de gonflage',\n",
       " 'Station de lavage',\n",
       " 'Toilettes publiques',\n",
       " 'Vente de fioul domestique',\n",
       " 'Vente de gaz domestique',\n",
       " 'Vente de pétrole lampant'}"
      ]
     },
     "execution_count": 68,
     "metadata": {},
     "output_type": "execute_result"
    }
   ],
   "source": [
    "set(matrice_services_df.columns)-{'id_station'}"
   ]
  },
  {
   "cell_type": "code",
   "execution_count": 114,
   "metadata": {},
   "outputs": [
    {
     "data": {
      "text/plain": [
       "LinearRegression(copy_X=True, fit_intercept=True, n_jobs=1, normalize=False)"
      ]
     },
     "execution_count": 114,
     "metadata": {},
     "output_type": "execute_result"
    }
   ],
   "source": [
    "lr.fit(X=model_services_df[list(set(matrice_services_df.columns)-{'id_station'})],\n",
    "                                y=model_services_df.indice)                                    "
   ]
  },
  {
   "cell_type": "code",
   "execution_count": 115,
   "metadata": {},
   "outputs": [
    {
     "data": {
      "text/plain": [
       "array([-0.00807226, -0.00047572, -0.00360002, -0.00748809,  0.01838106,\n",
       "        0.00573528, -0.0002079 ,  0.00500321,  0.01417165, -0.01879372,\n",
       "       -0.00086467,  0.01834778, -0.0130757 , -0.00135688, -0.00375147,\n",
       "       -0.00731001, -0.01496684, -0.0079994 ,  0.00127529,  0.00243954,\n",
       "        0.04518087,  0.00700189, -0.00761309, -0.01345772,  0.00945038])"
      ]
     },
     "execution_count": 115,
     "metadata": {},
     "output_type": "execute_result"
    }
   ],
   "source": [
    "lr.coef_"
   ]
  },
  {
   "cell_type": "code",
   "execution_count": 121,
   "metadata": {},
   "outputs": [
    {
     "data": {
      "text/plain": [
       "416518"
      ]
     },
     "execution_count": 121,
     "metadata": {},
     "output_type": "execute_result"
    }
   ],
   "source": [
    "model_services_df.Rien.sum()"
   ]
  },
  {
   "cell_type": "code",
   "execution_count": 87,
   "metadata": {},
   "outputs": [],
   "source": [
    "resultats = pd.DataFrame([(f,c) for f, c in zip(list(set(matrice_services_df.columns)-{'id_station'}), lr.coef_)],\n",
    "                        columns=['Service', 'Coefficient']).sort_values('Coefficient', ascending=False)"
   ]
  },
  {
   "cell_type": "code",
   "execution_count": 103,
   "metadata": {},
   "outputs": [
    {
     "data": {
      "text/plain": [
       "<matplotlib.axes._subplots.AxesSubplot at 0x27a1a108898>"
      ]
     },
     "execution_count": 103,
     "metadata": {},
     "output_type": "execute_result"
    },
    {
     "data": {
      "image/png": "[encoded data removed]",
      "text/plain": [
       "<matplotlib.figure.Figure at 0x27a1b24d1d0>"
      ]
     },
     "metadata": {},
     "output_type": "display_data"
    }
   ],
   "source": [
    "resultats.set_index('Service').plot(kind='barh')"
   ]
  },
  {
   "cell_type": "code",
   "execution_count": 122,
   "metadata": {
    "scrolled": true
   },
   "outputs": [
    {
     "name": "stderr",
     "output_type": "stream",
     "text": [
      "C:\\ProgramData\\Anaconda3\\lib\\site-packages\\statsmodels\\compat\\pandas.py:56: FutureWarning: The pandas.core.datetools module is deprecated and will be removed in a future version. Please use the pandas.tseries module instead.\n",
      "  from pandas.core import datetools\n"
     ]
    },
    {
     "name": "stdout",
     "output_type": "stream",
     "text": [
      "                            OLS Regression Results                            \n",
      "==============================================================================\n",
      "Dep. Variable:                 indice   R-squared:                       0.343\n",
      "Model:                            OLS   Adj. R-squared:                  0.343\n",
      "Method:                 Least Squares   F-statistic:                 6.735e+04\n",
      "Date:                Fri, 02 Feb 2018   Prob (F-statistic):               0.00\n",
      "Time:                        16:30:39   Log-Likelihood:             5.9142e+06\n",
      "No. Observations:             3220941   AIC:                        -1.183e+07\n",
      "Df Residuals:                 3220915   BIC:                        -1.183e+07\n",
      "Df Model:                          25                                         \n",
      "Covariance Type:            nonrobust                                         \n",
      "================================================================================================\n",
      "                                   coef    std err          t      P>|t|      [0.025      0.975]\n",
      "------------------------------------------------------------------------------------------------\n",
      "const                            1.0122   7.39e-05   1.37e+04      0.000       1.012       1.012\n",
      "Bar                             -0.0081      0.000    -70.309      0.000      -0.008      -0.008\n",
      "Piste poids lourds              -0.0005   5.35e-05     -8.890      0.000      -0.001      -0.000\n",
      "Restauration à emporter         -0.0036   7.95e-05    -45.258      0.000      -0.004      -0.003\n",
      "Vente de pétrole lampant        -0.0075   7.88e-05    -95.040      0.000      -0.008      -0.007\n",
      "Toilettes publiques              0.0184   6.37e-05    288.466      0.000       0.018       0.019\n",
      "Boutique non alimentaire         0.0057   7.25e-05     79.099      0.000       0.006       0.006\n",
      "Aire de camping-cars            -0.0002      0.000     -1.737      0.082      -0.000    2.67e-05\n",
      "Vente de fioul domestique        0.0050   7.17e-05     69.802      0.000       0.005       0.005\n",
      "Carburant qualité supérieure     0.0142   6.19e-05    228.955      0.000       0.014       0.014\n",
      "Automate CB                     -0.0188   5.59e-05   -336.311      0.000      -0.019      -0.019\n",
      "Station de lavage               -0.0009   6.13e-05    -14.095      0.000      -0.001      -0.001\n",
      "Baie de service auto             0.0183   7.98e-05    229.955      0.000       0.018       0.019\n",
      "Restauration sur place          -0.0131      0.000   -120.108      0.000      -0.013      -0.013\n",
      "Boutique alimentaire            -0.0014   7.54e-05    -17.990      0.000      -0.002      -0.001\n",
      "Lavage multi-programmes         -0.0038   6.71e-05    -55.899      0.000      -0.004      -0.004\n",
      "GPL                             -0.0073    6.2e-05   -117.970      0.000      -0.007      -0.007\n",
      "Vente de gaz domestique         -0.0150   5.87e-05   -254.851      0.000      -0.015      -0.015\n",
      "Laverie                         -0.0080      0.000    -70.611      0.000      -0.008      -0.008\n",
      "Lavage haute-pression            0.0013   6.35e-05     20.080      0.000       0.001       0.001\n",
      "Relais colis                     0.0024   9.58e-05     25.466      0.000       0.002       0.003\n",
      "Douches                          0.0452      0.000    298.803      0.000       0.045       0.045\n",
      "Espace bébé / change             0.0070      0.000     51.912      0.000       0.007       0.007\n",
      "Location de véhicule            -0.0076   7.28e-05   -104.590      0.000      -0.008      -0.007\n",
      "Rien                            -0.0135   9.51e-05   -141.564      0.000      -0.014      -0.013\n",
      "Station de gonflage              0.0095   6.15e-05    153.720      0.000       0.009       0.010\n",
      "==============================================================================\n",
      "Omnibus:                  1903913.746   Durbin-Watson:                   0.320\n",
      "Prob(Omnibus):                  0.000   Jarque-Bera (JB):        250608734.339\n",
      "Skew:                           1.881   Prob(JB):                         0.00\n",
      "Kurtosis:                      46.049   Cond. No.                         16.3\n",
      "==============================================================================\n",
      "\n",
      "Warnings:\n",
      "[1] Standard Errors assume that the covariance matrix of the errors is correctly specified.\n"
     ]
    }
   ],
   "source": [
    "import statsmodels.api as sm\n",
    "\n",
    "X2 = sm.add_constant(model_services_df[list(set(matrice_services_df.columns)-{'id_station'})])\n",
    "est = sm.OLS(model_services_df.indice, X2)\n",
    "est2 = est.fit()\n",
    "print(est2.summary())"
   ]
  },
  {
   "cell_type": "code",
   "execution_count": null,
   "metadata": {
    "collapsed": true
   },
   "outputs": [],
   "source": [
    "liste_varaibles = list(set(matrice_services_df.columns)-{'id_station'} + {'Rural'})"
   ]
  },
  {
   "cell_type": "markdown",
   "metadata": {},
   "source": [
    "### Modélisation (Random Regressor)"
   ]
  },
  {
   "cell_type": "code",
   "execution_count": 116,
   "metadata": {
    "collapsed": true
   },
   "outputs": [],
   "source": [
    "rf = RandomForestRegressor()"
   ]
  },
  {
   "cell_type": "code",
   "execution_count": 117,
   "metadata": {},
   "outputs": [
    {
     "data": {
      "text/plain": [
       "RandomForestRegressor(bootstrap=True, criterion='mse', max_depth=None,\n",
       "           max_features='auto', max_leaf_nodes=None,\n",
       "           min_impurity_split=1e-07, min_samples_leaf=1,\n",
       "           min_samples_split=2, min_weight_fraction_leaf=0.0,\n",
       "           n_estimators=10, n_jobs=1, oob_score=False, random_state=None,\n",
       "           verbose=0, warm_start=False)"
      ]
     },
     "execution_count": 117,
     "metadata": {},
     "output_type": "execute_result"
    }
   ],
   "source": [
    "rf.fit(X=model_services_df[list(set(matrice_services_df.columns)-{'id_station'})], y=model_services_df.indice)     "
   ]
  },
  {
   "cell_type": "code",
   "execution_count": 118,
   "metadata": {},
   "outputs": [
    {
     "ename": "AttributeError",
     "evalue": "'RandomForestRegressor' object has no attribute 'coef_'",
     "output_type": "error",
     "traceback": [
      "\u001b[1;31m---------------------------------------------------------------------------\u001b[0m",
      "\u001b[1;31mAttributeError\u001b[0m                            Traceback (most recent call last)",
      "\u001b[1;32m<ipython-input-118-6855be7f91a7>\u001b[0m in \u001b[0;36m<module>\u001b[1;34m()\u001b[0m\n\u001b[1;32m----> 1\u001b[1;33m \u001b[0mrf\u001b[0m\u001b[1;33m.\u001b[0m\u001b[0mcoef_\u001b[0m\u001b[1;33m\u001b[0m\u001b[0m\n\u001b[0m",
      "\u001b[1;31mAttributeError\u001b[0m: 'RandomForestRegressor' object has no attribute 'coef_'"
     ]
    }
   ],
   "source": [
    "rf.coef_"
   ]
  },
  {
   "cell_type": "code",
   "execution_count": 119,
   "metadata": {},
   "outputs": [
    {
     "ename": "AttributeError",
     "evalue": "'RandomForestRegressor' object has no attribute 'coef_'",
     "output_type": "error",
     "traceback": [
      "\u001b[1;31m---------------------------------------------------------------------------\u001b[0m",
      "\u001b[1;31mAttributeError\u001b[0m                            Traceback (most recent call last)",
      "\u001b[1;32m<ipython-input-119-baa31c7640ab>\u001b[0m in \u001b[0;36m<module>\u001b[1;34m()\u001b[0m\n\u001b[1;32m----> 1\u001b[1;33m resultats = pd.DataFrame([(f,c) for f, c in zip(list(set(matrice_services_df.columns)-{'id_station'}), rf.coef_)],\n\u001b[0m\u001b[0;32m      2\u001b[0m                         columns=['Service', 'Coefficient']).sort_values('Coefficient', ascending=False)\n",
      "\u001b[1;31mAttributeError\u001b[0m: 'RandomForestRegressor' object has no attribute 'coef_'"
     ]
    }
   ],
   "source": [
    "resultats_rf = pd.DataFrame([(f,c) for f, c in zip(list(set(matrice_services_df.columns)-{'id_station'}), rf.coef_)],\n",
    "                        columns=['Service', 'Coefficient']).sort_values('Coefficient', ascending=False)"
   ]
  },
  {
   "cell_type": "code",
   "execution_count": null,
   "metadata": {
    "collapsed": true
   },
   "outputs": [],
   "source": []
  }
 ],
 "metadata": {
  "kernelspec": {
   "display_name": "Python 3",
   "language": "python",
   "name": "python3"
  },
  "language_info": {
   "codemirror_mode": {
    "name": "ipython",
    "version": 3
   },
   "file_extension": ".py",
   "mimetype": "text/x-python",
   "name": "python",
   "nbconvert_exporter": "python",
   "pygments_lexer": "ipython3",
   "version": "3.6.1"
  }
 },
 "nbformat": 4,
 "nbformat_minor": 2
}
